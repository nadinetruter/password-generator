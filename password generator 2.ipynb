{
 "cells": [
  {
   "cell_type": "code",
   "execution_count": null,
   "metadata": {},
   "outputs": [
    {
     "name": "stdout",
     "output_type": "stream",
     "text": [
      "Welcome to the most secure Password Generator.\n"
     ]
    }
   ],
   "source": [
    "import string  #built in python operators \n",
    "import random  #built in python operators \n",
    "\n",
    "#created main function\n",
    "def main(): \n",
    "    \n",
    "    #print string\n",
    "    print(\"Welcome to the most secure Password Generator.\")\n",
    "    \n",
    "    #prompt user\n",
    "    user_input = input(\"Enter yes to generate password and no to quit:\").lower()\n",
    "    \n",
    "    #while user inputs anything other than yes and no\n",
    "    while user_input != \"yes\" and \"no\":\n",
    "        #print string\n",
    "        print(\"Error...type yes or no\")\n",
    "        #prompt user\n",
    "        user_input = input(\"Enter yes to generate password and no to quit:\").lower()\n",
    "           \n",
    "\n",
    "    #while input is = yes\n",
    "    while user_input == \"yes\":\n",
    "            #variable named chars to include different characters\n",
    "            chars= string.ascii_letters + string.digits + string.punctuation\n",
    "            #variable named password to join chars randomly \n",
    "            password =  \"\".join(random.choice(chars)for i in range((12)))\n",
    "            #print random password\n",
    "            print (password)\n",
    "            \n",
    "            #prompt password again\n",
    "            user_input = input(\"Enter yes to generate password and no to quit:\").lower()\n",
    "          \n",
    "               \n",
    "            \n",
    "           \n",
    "                    \n",
    "        \n",
    "if __name__== \"__main__\":\n",
    "    main()"
   ]
  },
  {
   "cell_type": "code",
   "execution_count": null,
   "metadata": {},
   "outputs": [],
   "source": []
  },
  {
   "cell_type": "code",
   "execution_count": null,
   "metadata": {},
   "outputs": [],
   "source": []
  }
 ],
 "metadata": {
  "kernelspec": {
   "display_name": "Python 3",
   "language": "python",
   "name": "python3"
  },
  "language_info": {
   "codemirror_mode": {
    "name": "ipython",
    "version": 3
   },
   "file_extension": ".py",
   "mimetype": "text/x-python",
   "name": "python",
   "nbconvert_exporter": "python",
   "pygments_lexer": "ipython3",
   "version": "3.7.6"
  }
 },
 "nbformat": 4,
 "nbformat_minor": 4
}
