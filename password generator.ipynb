{
 "cells": [
  {
   "cell_type": "code",
   "execution_count": null,
   "metadata": {},
   "outputs": [
    {
     "name": "stdout",
     "output_type": "stream",
     "text": [
      "Welcome to the most secure Password Generator.\n",
      "How long would you like your password to be?\n"
     ]
    }
   ],
   "source": [
    "import string  #built in python operators \n",
    "import random  #built in python operators \n",
    "\n",
    "#created main function\n",
    "def main(): \n",
    "    \n",
    "    #print string\n",
    "    print(\"Welcome to the most secure Password Generator.\")\n",
    "\n",
    "    #while true loop created to generate multiple passwords\n",
    "    while True:\n",
    "        \n",
    "        #try for error and exceptions\n",
    "        try:\n",
    "            #created function called password that takes strings and chooses random characters for the password\n",
    "            def password(size=12, chars=string.ascii_letters+string.digits+string.punctuation):\n",
    "                return \"\".join(random.choice(chars) for n in range(size))\n",
    "            #print string\n",
    "            print(\"How long would you like your password to be?\")\n",
    "            #prompt user to imput length of password\n",
    "            print(password(int(input('Enter a number here: '))))\n",
    "        #if user types in a character that is not a number, error will pop up\n",
    "        except ValueError:\n",
    "            #print string\n",
    "            print(\"ERROR!...Type in a number\")\n",
    "        \n",
    "#pass through the main code onto the terminal\n",
    "if __name__== \"__main__\":\n",
    "    main()\n",
    "\n"
   ]
  },
  {
   "cell_type": "code",
   "execution_count": null,
   "metadata": {},
   "outputs": [],
   "source": []
  },
  {
   "cell_type": "code",
   "execution_count": null,
   "metadata": {},
   "outputs": [],
   "source": []
  },
  {
   "cell_type": "code",
   "execution_count": null,
   "metadata": {},
   "outputs": [],
   "source": []
  },
  {
   "cell_type": "code",
   "execution_count": null,
   "metadata": {},
   "outputs": [],
   "source": []
  },
  {
   "cell_type": "code",
   "execution_count": null,
   "metadata": {},
   "outputs": [],
   "source": [
    "\n",
    "       "
   ]
  },
  {
   "cell_type": "code",
   "execution_count": null,
   "metadata": {},
   "outputs": [],
   "source": []
  }
 ],
 "metadata": {
  "kernelspec": {
   "display_name": "Python 3",
   "language": "python",
   "name": "python3"
  },
  "language_info": {
   "codemirror_mode": {
    "name": "ipython",
    "version": 3
   },
   "file_extension": ".py",
   "mimetype": "text/x-python",
   "name": "python",
   "nbconvert_exporter": "python",
   "pygments_lexer": "ipython3",
   "version": "3.7.6"
  }
 },
 "nbformat": 4,
 "nbformat_minor": 4
}
